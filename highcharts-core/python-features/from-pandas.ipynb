{
 "cells": [
  {
   "cell_type": "markdown",
   "id": "b61ab4e2-55d4-4159-96c0-b5ab12954d59",
   "metadata": {},
   "source": [
    "# ``.from_pandas()`` Demo\n",
    "Highcharts for Python includes a super useful ``.from_pandas()`` method which can quickly and easily generate a Highcharts visualization from a Pandas dataframe."
   ]
  },
  {
   "cell_type": "markdown",
   "id": "36247b6d-8b86-4c54-9142-b47d3f994eca",
   "metadata": {
    "tags": []
   },
   "source": [
    "## Import Dependencies"
   ]
  },
  {
   "cell_type": "code",
   "execution_count": 11,
   "id": "03fde0d1-880a-467a-9aac-777ebf7c59f3",
   "metadata": {
    "tags": []
   },
   "outputs": [],
   "source": [
    "from highcharts_core.chart import Chart\n",
    "from highcharts_core.options.series.area import LineSeries\n",
    "import pandas"
   ]
  },
  {
   "cell_type": "markdown",
   "id": "e0000636-b68e-488e-b15f-988ebc1d8b6a",
   "metadata": {},
   "source": [
    "## Prepare the Configuration"
   ]
  },
  {
   "cell_type": "code",
   "execution_count": 12,
   "id": "0a5ab4ab-0e15-4cbc-a2fb-83bf97e48d3f",
   "metadata": {
    "tags": []
   },
   "outputs": [],
   "source": [
    "options_kwargs = {\n",
    "    'title': {\n",
    "        'text': 'U.S Solar Employment Growth by Job Category, 2010-2020',\n",
    "        'align': 'left'\n",
    "    },\n",
    "    'subtitle': {\n",
    "        'text': 'Source: <a href=\"https://irecusa.org/programs/solar-jobs-census/\" target=\"_blank\">IREC</a>',\n",
    "        'align': 'left'\n",
    "    },\n",
    "    'y_axis': {\n",
    "        'title': {\n",
    "            'text': 'Number of Employees'\n",
    "        }\n",
    "    },\n",
    "    'x_axis': {\n",
    "        'accessibility': {\n",
    "            'range_description': 'Range: 2010 to 2020'\n",
    "        }\n",
    "    },\n",
    "    'legend': {\n",
    "        'layout': 'vertical',\n",
    "        'align': 'right',\n",
    "        'vertical_align': 'middle'\n",
    "    },\n",
    "    'plot_options': {\n",
    "        'series': {\n",
    "            'point_start': 2010,\n",
    "            'label': {\n",
    "                'connector_allowed': False\n",
    "            }\n",
    "        }\n",
    "    }\n",
    "}"
   ]
  },
  {
   "cell_type": "markdown",
   "id": "83ea7d23-2026-4a15-9144-e30001406eb8",
   "metadata": {},
   "source": [
    "## Populate the Dataframe"
   ]
  },
  {
   "cell_type": "code",
   "execution_count": 13,
   "id": "a51b0171-0852-4f72-94a5-af08626144a6",
   "metadata": {
    "tags": []
   },
   "outputs": [
    {
     "data": {
      "text/html": [
       "<div id=\"highcharts_target_div_ZRARYD\" style=\"width:100%; height:400;\"></div>\n"
      ],
      "text/plain": [
       "<IPython.core.display.HTML object>"
      ]
     },
     "metadata": {},
     "output_type": "display_data"
    },
    {
     "data": {
      "application/javascript": "var has_requirejs = typeof requirejs !== 'undefined';\nif (has_requirejs) {\nrequire.config({\n  packages: [{\n    name: 'highcharts', main: 'highcharts' }],\n  paths: {\n    'highcharts': 'https://code.highcharts.com/'\n  }\n\n}); require(['highcharts'], function (Highcharts) {\nfunction retryHighcharts(fn, container = 'highcharts_target_div', retries = 5, retriesLeft = 5, \n        interval = 1000) {\n            return new Promise((resolve, reject) => {\n            try {\n                fn()\n                return resolve();\n            } catch (err) {\n                if ((err instanceof ReferenceError) || (err instanceof TypeError) || (err.message.includes('#17'))) {\n                    if (retriesLeft === 0) {\n                        var target_div = document.getElementById(container);\n                        if (target_div) {\n                            var timeElapsed = (retries * interval) / 1000;\n                            var errorMessage = \"Something went wrong with the Highcharts.js script. It should have been automatically loaded, but it did not load for over \" + timeElapsed + \" seconds. Check your internet connection, and then if the problem persists please reach out for support. (You can also check your browser's console log for more details.)<br/><br/>Detailed Error Message:<br/>\" + err.message;\n                            var errorHTML = errorMessage;\n                            \n                            target_div.innerHTML = errorHTML;\n                            console.log(errorMessage);\n                            console.error(err);\n                        }\n                        return reject();\n                    }\n\n                    setTimeout(() => {\n                        retryHighcharts(fn, container, retries, retriesLeft - 1, interval).then(resolve).catch(reject);\n                    }, interval);\n                } else if ((err instanceof Error) && (err.message.includes('#13'))) {\n                    var errorMessage = \"It looks like the container specified '\" + container + \"' was not created successfully. Please check your browser's console log for more details.\";\n                    console.error(errorMessage);\n                    console.error(err);\n                    \n                    return reject();\n                } else {\n                    throw err;\n                }\n            }\n        });\n    };function insertChart_ZRARYD() {\n\nHighcharts.chart('highcharts_target_div_ZRARYD',\n{\n  series: [{\n  data: [[43934.0,\n24916.0],\n[48656.0,\n37941.0],\n[65165.0,\n29742.0],\n[81827.0,\n29851.0],\n[112143.0,\n32490.0],\n[142383.0,\n30282.0],\n[171533.0,\n38121.0],\n[165174.0,\n36885.0],\n[155157.0,\n33726.0],\n[161454.0,\n34243.0],\n[154610.0,\n31050.0]],\n  name: 'Manufacturing',\n  type: 'line'\n},\n{\n  data: [[43934.0,\n11744.0],\n[48656.0,\n30000.0],\n[65165.0,\n16005.0],\n[81827.0,\n19771.0],\n[112143.0,\n20185.0],\n[142383.0,\n24377.0],\n[171533.0,\n32147.0],\n[165174.0,\n30912.0],\n[155157.0,\n29243.0],\n[161454.0,\n29213.0],\n[154610.0,\n25663.0]],\n  name: 'Sales & Distribution',\n  type: 'line'\n},\n{\n  data: [[43934.0,\n10077.0],\n[48656.0,\n10077.0],\n[65165.0,\n10077.0],\n[81827.0,\n10077.0],\n[112143.0,\n10077.0],\n[142383.0,\n10077.0],\n[171533.0,\n10077.0],\n[165174.0,\n10077.0],\n[155157.0,\n11164.0],\n[161454.0,\n11218.0],\n[154610.0,\n10077.0]],\n  name: 'Operations & Maintenance',\n  type: 'line'\n},\n{\n  data: [[43934.0,\n21908.0],\n[48656.0,\n5548.0],\n[65165.0,\n8105.0],\n[81827.0,\n11248.0],\n[112143.0,\n8989.0],\n[142383.0,\n11816.0],\n[171533.0,\n18274.0],\n[165174.0,\n17300.0],\n[155157.0,\n13053.0],\n[161454.0,\n11906.0],\n[154610.0,\n10073.0]],\n  name: 'Other',\n  type: 'line'\n}]\n},\n);\n\n};\nretryHighcharts(insertChart_ZRARYD, 'highcharts_target_div_ZRARYD', 5, 5, 1000);\n});\n} else {\nnew Promise(function(resolve, reject) {\n  var existing_tags = document.querySelectorAll(\"script[src='https://code.highcharts.com/highcharts.js']\");  if (existing_tags.length == 0) {\n            var script = document.createElement(\"script\");\n            script.onload = resolve;\n            script.onerror = reject;        script.src = 'https://code.highcharts.com/highcharts.js';        document.head.appendChild(script);\n        } else { resolve() };\n    }).then(() => {});\n};",
      "text/plain": [
       "<IPython.core.display.Javascript object>"
      ]
     },
     "metadata": {},
     "output_type": "display_data"
    },
    {
     "data": {
      "application/javascript": "var has_requirejs = typeof requirejs !== 'undefined';\nif (has_requirejs) {\n\n} else {\nfunction retryHighcharts(fn, container = 'highcharts_target_div', retries = 5, retriesLeft = 5, \n        interval = 1000) {\n            return new Promise((resolve, reject) => {\n            try {\n                fn()\n                return resolve();\n            } catch (err) {\n                if ((err instanceof ReferenceError) || (err instanceof TypeError) || (err.message.includes('#17'))) {\n                    if (retriesLeft === 0) {\n                        var target_div = document.getElementById(container);\n                        if (target_div) {\n                            var timeElapsed = (retries * interval) / 1000;\n                            var errorMessage = \"Something went wrong with the Highcharts.js script. It should have been automatically loaded, but it did not load for over \" + timeElapsed + \" seconds. Check your internet connection, and then if the problem persists please reach out for support. (You can also check your browser's console log for more details.)<br/><br/>Detailed Error Message:<br/>\" + err.message;\n                            var errorHTML = errorMessage;\n                            \n                            target_div.innerHTML = errorHTML;\n                            console.log(errorMessage);\n                            console.error(err);\n                        }\n                        return reject();\n                    }\n\n                    setTimeout(() => {\n                        retryHighcharts(fn, container, retries, retriesLeft - 1, interval).then(resolve).catch(reject);\n                    }, interval);\n                } else if ((err instanceof Error) && (err.message.includes('#13'))) {\n                    var errorMessage = \"It looks like the container specified '\" + container + \"' was not created successfully. Please check your browser's console log for more details.\";\n                    console.error(errorMessage);\n                    console.error(err);\n                    \n                    return reject();\n                } else {\n                    throw err;\n                }\n            }\n        });\n    };function insertChart_ZRARYD() {\n\nHighcharts.chart('highcharts_target_div_ZRARYD',\n{\n  series: [{\n  data: [[43934.0,\n24916.0],\n[48656.0,\n37941.0],\n[65165.0,\n29742.0],\n[81827.0,\n29851.0],\n[112143.0,\n32490.0],\n[142383.0,\n30282.0],\n[171533.0,\n38121.0],\n[165174.0,\n36885.0],\n[155157.0,\n33726.0],\n[161454.0,\n34243.0],\n[154610.0,\n31050.0]],\n  name: 'Manufacturing',\n  type: 'line'\n},\n{\n  data: [[43934.0,\n11744.0],\n[48656.0,\n30000.0],\n[65165.0,\n16005.0],\n[81827.0,\n19771.0],\n[112143.0,\n20185.0],\n[142383.0,\n24377.0],\n[171533.0,\n32147.0],\n[165174.0,\n30912.0],\n[155157.0,\n29243.0],\n[161454.0,\n29213.0],\n[154610.0,\n25663.0]],\n  name: 'Sales & Distribution',\n  type: 'line'\n},\n{\n  data: [[43934.0,\n10077.0],\n[48656.0,\n10077.0],\n[65165.0,\n10077.0],\n[81827.0,\n10077.0],\n[112143.0,\n10077.0],\n[142383.0,\n10077.0],\n[171533.0,\n10077.0],\n[165174.0,\n10077.0],\n[155157.0,\n11164.0],\n[161454.0,\n11218.0],\n[154610.0,\n10077.0]],\n  name: 'Operations & Maintenance',\n  type: 'line'\n},\n{\n  data: [[43934.0,\n21908.0],\n[48656.0,\n5548.0],\n[65165.0,\n8105.0],\n[81827.0,\n11248.0],\n[112143.0,\n8989.0],\n[142383.0,\n11816.0],\n[171533.0,\n18274.0],\n[165174.0,\n17300.0],\n[155157.0,\n13053.0],\n[161454.0,\n11906.0],\n[154610.0,\n10073.0]],\n  name: 'Other',\n  type: 'line'\n}]\n},\n);\n\n};\nretryHighcharts(insertChart_ZRARYD, 'highcharts_target_div_ZRARYD', 5, 5, 1000);\n};",
      "text/plain": [
       "<IPython.core.display.Javascript object>"
      ]
     },
     "metadata": {},
     "output_type": "display_data"
    }
   ],
   "source": [
    "df = pandas.read_csv('from-pandas.csv')\n",
    "\n",
    "my_chart = Chart.from_csv('from-pandas.csv', wrapper_character = '\"')\n",
    "my_chart.display()"
   ]
  },
  {
   "cell_type": "markdown",
   "id": "2294327c-46ec-425d-8f4e-0e618607c037",
   "metadata": {},
   "source": [
    "## Create the Series"
   ]
  },
  {
   "cell_type": "code",
   "execution_count": 14,
   "id": "8fb6490d-cb69-4ed3-995b-8df7389caee3",
   "metadata": {
    "tags": []
   },
   "outputs": [],
   "source": [
    "series_columns = ['Installation & Developers',\n",
    "                  'Manufacturing',\n",
    "                  'Sales & Distribution',\n",
    "                  'Operations & Maintenance',\n",
    "                  'Other']\n",
    "series = [LineSeries.from_pandas(df, property_map = {'y': x}, series_kwargs = {'name': x}) for x in series_columns]"
   ]
  },
  {
   "cell_type": "markdown",
   "id": "22f593cd-1641-46db-aca3-4aaeec8d59bb",
   "metadata": {},
   "source": [
    "## Assemble the Chart"
   ]
  },
  {
   "cell_type": "code",
   "execution_count": 15,
   "id": "d54eeb90-3535-4973-b44e-8109bf480c4e",
   "metadata": {},
   "outputs": [],
   "source": [
    "chart = Chart(options = options_kwargs)\n",
    "chart.add_series(*series)"
   ]
  },
  {
   "cell_type": "markdown",
   "id": "da99cefc-d953-4764-8392-a704e34702a8",
   "metadata": {},
   "source": [
    "## Display the Chart"
   ]
  },
  {
   "cell_type": "code",
   "execution_count": 17,
   "id": "97eb8175-132f-48ac-bfeb-58d10dae40a6",
   "metadata": {},
   "outputs": [
    {
     "name": "stdout",
     "output_type": "stream",
     "text": [
      "****************************************************************\n",
      "Request chart : 'https://export.highcharts.com'\n",
      "data '{\"infile\": {\"legend\": {\"align\": \"right\", \"layout\": \"vertical\", \"verticalAlign\": \"middle\"}, \"plotOptions\": {\"series\": {\"pointStart\": 2010, \"label\": {\"connectorAllowed\": false}, \"type\": \"series\"}}, \"series\": [{\"data\": {\"dataPoints\": [{\"y\": 43934.0}, {\"y\": 48656.0}, {\"y\": 65165.0}, {\"y\": 81827.0}, {\"y\": 112143.0}, {\"y\": 142383.0}, {\"y\": 171533.0}, {\"y\": 165174.0}, {\"y\": 155157.0}, {\"y\": 161454.0}, {\"y\": 154610.0}]}, \"name\": \"Installation & Developers\", \"type\": \"line\"}, {\"data\": {\"dataPoints\": [{\"y\": 24916.0}, {\"y\": 37941.0}, {\"y\": 29742.0}, {\"y\": 29851.0}, {\"y\": 32490.0}, {\"y\": 30282.0}, {\"y\": 38121.0}, {\"y\": 36885.0}, {\"y\": 33726.0}, {\"y\": 34243.0}, {\"y\": 31050.0}]}, \"name\": \"Manufacturing\", \"type\": \"line\"}, {\"data\": {\"dataPoints\": [{\"y\": 11744.0}, {\"y\": 30000.0}, {\"y\": 16005.0}, {\"y\": 19771.0}, {\"y\": 20185.0}, {\"y\": 24377.0}, {\"y\": 32147.0}, {\"y\": 30912.0}, {\"y\": 29243.0}, {\"y\": 29213.0}, {\"y\": 25663.0}]}, \"name\": \"Sales & Distribution\", \"type\": \"line\"}, {\"data\": {\"dataPoints\": [{\"y\": 10077.0}, {\"y\": 10077.0}, {\"y\": 10077.0}, {\"y\": 10077.0}, {\"y\": 10077.0}, {\"y\": 10077.0}, {\"y\": 10077.0}, {\"y\": 10077.0}, {\"y\": 11164.0}, {\"y\": 11218.0}, {\"y\": 10077.0}]}, \"name\": \"Operations & Maintenance\", \"type\": \"line\"}, {\"data\": {\"dataPoints\": [{\"y\": 21908.0}, {\"y\": 5548.0}, {\"y\": 8105.0}, {\"y\": 11248.0}, {\"y\": 8989.0}, {\"y\": 11816.0}, {\"y\": 18274.0}, {\"y\": 17300.0}, {\"y\": 13053.0}, {\"y\": 11906.0}, {\"y\": 10073.0}]}, \"name\": \"Other\", \"type\": \"line\"}], \"subtitle\": {\"align\": \"left\", \"text\": \"Source: <a href=\\\\\"https://irecusa.org/programs/solar-jobs-census/\\\\\" target=\\\\\"_blank\\\\\">IREC</a>\"}, \"title\": {\"align\": \"left\", \"text\": \"U.S Solar Employment Growth by Job Category, 2010-2020\"}, \"xAxis\": {\"accessibility\": {\"rangeDescription\": \"Range: 2010 to 2020\"}}, \"yAxis\": {\"title\": {\"text\": \"Number of Employees\"}}}, \"type\": \"png\", \"scale\": 1, \"constr\": \"Chart\", \"b64\": false, \"noDownload\": false, \"asyncRendering\": false}'\n",
      "********************************************************\n",
      "<Response [200]>\n"
     ]
    }
   ],
   "source": [
    "chart.display(container = 'highcharts_container')\n",
    "#my_png_image = chart.download_chart(format = 'png', timeout=120.0, filename='out.png')"
   ]
  },
  {
   "cell_type": "code",
   "execution_count": null,
   "id": "fac19969-4243-4ca3-bee5-32ab4dcf7c97",
   "metadata": {},
   "outputs": [],
   "source": []
  }
 ],
 "metadata": {
  "kernelspec": {
   "display_name": "Python 3 (ipykernel)",
   "language": "python",
   "name": "python3"
  },
  "language_info": {
   "codemirror_mode": {
    "name": "ipython",
    "version": 3
   },
   "file_extension": ".py",
   "mimetype": "text/x-python",
   "name": "python",
   "nbconvert_exporter": "python",
   "pygments_lexer": "ipython3",
   "version": "3.10.12"
  }
 },
 "nbformat": 4,
 "nbformat_minor": 5
}
