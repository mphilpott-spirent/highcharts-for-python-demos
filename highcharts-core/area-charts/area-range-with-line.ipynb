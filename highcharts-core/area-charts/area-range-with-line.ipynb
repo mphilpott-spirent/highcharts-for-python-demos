{
 "cells": [
  {
   "cell_type": "markdown",
   "id": "3d033821-eebd-4e56-8d75-1640001f6451",
   "metadata": {},
   "source": [
    "# Area Range with Line Series\n",
    "Chart demonstrating using an arearange series in combination with a line\n",
    "series. In this case, the arearange series is used to visualize the\n",
    "temperature range per day, while the line series shows the average\n",
    "temperature."
   ]
  },
  {
   "cell_type": "markdown",
   "id": "19324d42-e2dd-41a3-a12f-ca8fbceda5ec",
   "metadata": {},
   "source": [
    "## Import Dependencies"
   ]
  },
  {
   "cell_type": "code",
   "execution_count": 1,
   "id": "9962170c-4f90-41f7-873e-0599ab54c046",
   "metadata": {
    "tags": []
   },
   "outputs": [],
   "source": [
    "from highcharts_core.chart import Chart\n",
    "from highcharts_core.options import HighchartsOptions\n",
    "from highcharts_core.options.series.area import AreaRangeSeries, LineSeries"
   ]
  },
  {
   "cell_type": "markdown",
   "id": "131fd3c7-bacc-4bfb-ae09-d5800a7be170",
   "metadata": {},
   "source": [
    "## Prepare Data"
   ]
  },
  {
   "cell_type": "code",
   "execution_count": 2,
   "id": "3c274c54-ddde-40de-b650-b7a5a001ab77",
   "metadata": {
    "tags": []
   },
   "outputs": [],
   "source": [
    "ranges = [\n",
    "    [13.7, 25.6],\n",
    "    [13.3, 21.8],\n",
    "    [11.2, 19.9],\n",
    "    [7.9, 17.3],\n",
    "    [4.9, 20.6],\n",
    "    [5.1, 16.8],\n",
    "    [9.3, 21.1],\n",
    "    [11.1, 20.5],\n",
    "    [8.9, 18.4],\n",
    "    [4.6, 23.2],\n",
    "    [11.5, 26.0],\n",
    "    [8.6, 23.4],\n",
    "    [9.8, 22.2],\n",
    "    [8.1, 18.2],\n",
    "    [5.9, 20.2],\n",
    "    [4.5, 20.2],\n",
    "    [8.9, 19.8],\n",
    "    [11.1, 22.1],\n",
    "    [7.9, 26.7],\n",
    "    [15.9, 28.6],\n",
    "    [14.9, 27.5],\n",
    "    [9.5, 26.0],\n",
    "    [11.5, 22.4],\n",
    "    [8.6, 21.1],\n",
    "    [12.9, 21.7],\n",
    "    [13.6, 20.9],\n",
    "    [9.6, 23.9],\n",
    "    [8.6, 22.7],\n",
    "    [7.5, 25.7],\n",
    "    [5.5, 24.3],\n",
    "    [10.4, 21.2]\n",
    "]\n",
    "\n",
    "averages = [\n",
    "    [18.1],\n",
    "    [17.1],\n",
    "    [15.2],\n",
    "    [12.7],\n",
    "    [13.3],\n",
    "    [10.6],\n",
    "    [15.6],\n",
    "    [16.1],\n",
    "    [14.0],\n",
    "    [15.3],\n",
    "    [17.5],\n",
    "    [17.5],\n",
    "    [15.3],\n",
    "    [13.9],\n",
    "    [13.7],\n",
    "    [13.8],\n",
    "    [14.0],\n",
    "    [15.8],\n",
    "    [18.6],\n",
    "    [21.5],\n",
    "    [19.8],\n",
    "    [17.6],\n",
    "    [16.8],\n",
    "    [15.6],\n",
    "    [16.7],\n",
    "    [16.3],\n",
    "    [17.2],\n",
    "    [16.0],\n",
    "    [16.9],\n",
    "    [16.1],\n",
    "    [14.5]\n",
    "]"
   ]
  },
  {
   "cell_type": "markdown",
   "id": "089b8f43-ea01-4753-a52f-bfd1e23d948d",
   "metadata": {},
   "source": [
    "## Prepare Options"
   ]
  },
  {
   "cell_type": "code",
   "execution_count": 3,
   "id": "e8f030f9-6f9c-445b-b0f5-9f6b2118c865",
   "metadata": {
    "tags": []
   },
   "outputs": [],
   "source": [
    "options = HighchartsOptions(\n",
    "    title = { 'text': 'July temperatures in Nesbyen, 2022', 'align': 'left' },\n",
    "    subtitle = {\n",
    "        'text': 'Source: <a href=\"https://www.yr.no/nb/historikk/graf/1-113585/Norge/Viken/Nesbyen/Nesbyen?q=2022-07\" target=\"_blank\">YR</a>',\n",
    "        'align': 'left'\n",
    "    },\n",
    "    x_axis = {\n",
    "        'type': 'datetime',\n",
    "        'accessibility': {\n",
    "            'range_description': 'Range: Jul 1st 2022 to Jul 31st 2022.'\n",
    "        }\n",
    "    },\n",
    "    y_axis = {\n",
    "        'title': {\n",
    "            'text': None\n",
    "        }\n",
    "    },\n",
    "    tooltip = {\n",
    "        'crosshairs': True,\n",
    "        'shared': True,\n",
    "        'value_suffix': '°C'\n",
    "    },\n",
    "\n",
    "    plot_options = {\n",
    "        'series': {\n",
    "            'point_start': '2022-06-01',\n",
    "            'point_interval_unit': 'day'\n",
    "        }\n",
    "    })\n",
    "\n",
    "range_series = AreaRangeSeries(name = 'Range',\n",
    "                               data = ranges,\n",
    "                               line_width = 0,\n",
    "                               linked_to = ':previous',\n",
    "                               fill_opacity = 0.3,\n",
    "                               z_index = 0,\n",
    "                               marker = {\n",
    "                                   'enabled': False\n",
    "                               })\n",
    "averages_series = LineSeries(name = 'Temperature',\n",
    "                             data = averages,\n",
    "                             z_index = 1,\n",
    "                             marker = {\n",
    "                                 'fill_color': 'white',\n",
    "                                 'line_width': 2\n",
    "                             })\n",
    "options.add_series(range_series, averages_series)"
   ]
  },
  {
   "cell_type": "markdown",
   "id": "b06bf4c1-988c-49de-994e-96d6948a440e",
   "metadata": {},
   "source": [
    "## Generate Chart"
   ]
  },
  {
   "cell_type": "code",
   "execution_count": 4,
   "id": "57aa98fa-be9a-462c-8b07-eb2e97de4f13",
   "metadata": {
    "tags": []
   },
   "outputs": [
    {
     "ename": "HighchartsDependencyError",
     "evalue": "Unable to import IPython modules. Make sure that it is available in your runtime environment. To install,use: pip install ipython",
     "output_type": "error",
     "traceback": [
      "\u001b[0;31m---------------------------------------------------------------------------\u001b[0m",
      "\u001b[0;31mModuleNotFoundError\u001b[0m                       Traceback (most recent call last)",
      "\u001b[0;32m~/.local/lib/python3.10/site-packages/highcharts_core/chart.py\u001b[0m in \u001b[0;36mdisplay\u001b[0;34m(self, global_options, container, retries, interval)\u001b[0m\n\u001b[1;32m    974\u001b[0m             \u001b[0;32mfrom\u001b[0m \u001b[0mIPython\u001b[0m \u001b[0;32mimport\u001b[0m \u001b[0mdisplay\u001b[0m \u001b[0;32mas\u001b[0m \u001b[0mdisplay_mod\u001b[0m\u001b[0;34m\u001b[0m\u001b[0;34m\u001b[0m\u001b[0m\n\u001b[0;32m--> 975\u001b[0;31m             \u001b[0;32mfrom\u001b[0m \u001b[0mIPython\u001b[0m\u001b[0;34m.\u001b[0m\u001b[0mcore\u001b[0m\u001b[0;34m.\u001b[0m\u001b[0mdisplay_functions\u001b[0m \u001b[0;32mimport\u001b[0m \u001b[0mdisplay\u001b[0m\u001b[0;34m\u001b[0m\u001b[0;34m\u001b[0m\u001b[0m\n\u001b[0m\u001b[1;32m    976\u001b[0m         \u001b[0;32mexcept\u001b[0m \u001b[0mImportError\u001b[0m\u001b[0;34m:\u001b[0m\u001b[0;34m\u001b[0m\u001b[0;34m\u001b[0m\u001b[0m\n",
      "\u001b[0;31mModuleNotFoundError\u001b[0m: No module named 'IPython.core.display_functions'",
      "\nDuring handling of the above exception, another exception occurred:\n",
      "\u001b[0;31mHighchartsDependencyError\u001b[0m                 Traceback (most recent call last)",
      "\u001b[0;32m/tmp/ipykernel_124030/2885726728.py\u001b[0m in \u001b[0;36m<module>\u001b[0;34m\u001b[0m\n\u001b[1;32m      1\u001b[0m \u001b[0;32mimport\u001b[0m \u001b[0mIPython\u001b[0m\u001b[0;34m\u001b[0m\u001b[0;34m\u001b[0m\u001b[0m\n\u001b[1;32m      2\u001b[0m \u001b[0mchart\u001b[0m \u001b[0;34m=\u001b[0m \u001b[0mChart\u001b[0m\u001b[0;34m.\u001b[0m\u001b[0mfrom_options\u001b[0m\u001b[0;34m(\u001b[0m\u001b[0moptions\u001b[0m\u001b[0;34m)\u001b[0m\u001b[0;34m\u001b[0m\u001b[0;34m\u001b[0m\u001b[0m\n\u001b[0;32m----> 3\u001b[0;31m \u001b[0mchart\u001b[0m\u001b[0;34m.\u001b[0m\u001b[0mdisplay\u001b[0m\u001b[0;34m(\u001b[0m\u001b[0;34m)\u001b[0m\u001b[0;34m\u001b[0m\u001b[0;34m\u001b[0m\u001b[0m\n\u001b[0m",
      "\u001b[0;32m~/.local/lib/python3.10/site-packages/highcharts_core/chart.py\u001b[0m in \u001b[0;36mdisplay\u001b[0;34m(self, global_options, container, retries, interval)\u001b[0m\n\u001b[1;32m    975\u001b[0m             \u001b[0;32mfrom\u001b[0m \u001b[0mIPython\u001b[0m\u001b[0;34m.\u001b[0m\u001b[0mcore\u001b[0m\u001b[0;34m.\u001b[0m\u001b[0mdisplay_functions\u001b[0m \u001b[0;32mimport\u001b[0m \u001b[0mdisplay\u001b[0m\u001b[0;34m\u001b[0m\u001b[0;34m\u001b[0m\u001b[0m\n\u001b[1;32m    976\u001b[0m         \u001b[0;32mexcept\u001b[0m \u001b[0mImportError\u001b[0m\u001b[0;34m:\u001b[0m\u001b[0;34m\u001b[0m\u001b[0;34m\u001b[0m\u001b[0m\n\u001b[0;32m--> 977\u001b[0;31m             raise errors.HighchartsDependencyError('Unable to import IPython modules. '\n\u001b[0m\u001b[1;32m    978\u001b[0m                                                    \u001b[0;34m'Make sure that it is available in '\u001b[0m\u001b[0;34m\u001b[0m\u001b[0;34m\u001b[0m\u001b[0m\n\u001b[1;32m    979\u001b[0m                                                    \u001b[0;34m'your runtime environment. To install,'\u001b[0m\u001b[0;34m\u001b[0m\u001b[0;34m\u001b[0m\u001b[0m\n",
      "\u001b[0;31mHighchartsDependencyError\u001b[0m: Unable to import IPython modules. Make sure that it is available in your runtime environment. To install,use: pip install ipython"
     ]
    }
   ],
   "source": [
    "import IPython\n",
    "chart = Chart.from_options(options)\n",
    "chart.display()"
   ]
  },
  {
   "cell_type": "code",
   "execution_count": null,
   "id": "d7b3b207-476b-4015-84e6-6bba06e6129d",
   "metadata": {},
   "outputs": [],
   "source": []
  }
 ],
 "metadata": {
  "kernelspec": {
   "display_name": "Python 3 (ipykernel)",
   "language": "python",
   "name": "python3"
  },
  "language_info": {
   "codemirror_mode": {
    "name": "ipython",
    "version": 3
   },
   "file_extension": ".py",
   "mimetype": "text/x-python",
   "name": "python",
   "nbconvert_exporter": "python",
   "pygments_lexer": "ipython3",
   "version": "3.10.12"
  }
 },
 "nbformat": 4,
 "nbformat_minor": 5
}
